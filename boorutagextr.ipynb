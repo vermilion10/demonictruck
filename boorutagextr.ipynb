{
  "nbformat": 4,
  "nbformat_minor": 0,
  "metadata": {
    "colab": {
      "provenance": [],
      "authorship_tag": "ABX9TyPkQ/2VF5XgemXe8sexNzMs"
    },
    "kernelspec": {
      "name": "python3",
      "display_name": "Python 3"
    },
    "language_info": {
      "name": "python"
    }
  },
  "cells": [
    {
      "cell_type": "markdown",
      "metadata": {
        "id": "572a89ac"
      },
      "source": [
        "## Install necessary libraries\n",
        "\n"
      ]
    },
    {
      "cell_type": "code",
      "metadata": {
        "colab": {
          "base_uri": "https://localhost:8080/"
        },
        "id": "8f10f8e3",
        "outputId": "648a86b1-e050-43e6-e21b-9fd08730fbb3"
      },
      "source": [
        "%pip install requests beautifulsoup4"
      ],
      "execution_count": 1,
      "outputs": [
        {
          "output_type": "stream",
          "name": "stdout",
          "text": [
            "Requirement already satisfied: requests in /usr/local/lib/python3.12/dist-packages (2.32.4)\n",
            "Requirement already satisfied: beautifulsoup4 in /usr/local/lib/python3.12/dist-packages (4.13.5)\n",
            "Requirement already satisfied: charset_normalizer<4,>=2 in /usr/local/lib/python3.12/dist-packages (from requests) (3.4.4)\n",
            "Requirement already satisfied: idna<4,>=2.5 in /usr/local/lib/python3.12/dist-packages (from requests) (3.11)\n",
            "Requirement already satisfied: urllib3<3,>=1.21.1 in /usr/local/lib/python3.12/dist-packages (from requests) (2.5.0)\n",
            "Requirement already satisfied: certifi>=2017.4.17 in /usr/local/lib/python3.12/dist-packages (from requests) (2025.10.5)\n",
            "Requirement already satisfied: soupsieve>1.2 in /usr/local/lib/python3.12/dist-packages (from beautifulsoup4) (2.8)\n",
            "Requirement already satisfied: typing-extensions>=4.0.0 in /usr/local/lib/python3.12/dist-packages (from beautifulsoup4) (4.15.0)\n"
          ]
        }
      ]
    },
    {
      "cell_type": "markdown",
      "metadata": {
        "id": "abfcc786"
      },
      "source": [
        "## Get user input\n",
        "Prompt the user to enter the Danbooru post URL.\n"
      ]
    },
    {
      "cell_type": "code",
      "metadata": {
        "id": "91fcefdf"
      },
      "source": [
        "post_url = input(\"Please enter the Danbooru post URL: \")"
      ],
      "execution_count": null,
      "outputs": []
    },
    {
      "cell_type": "markdown",
      "metadata": {
        "id": "9893b446"
      },
      "source": [
        "## Fetch the webpage"
      ]
    },
    {
      "cell_type": "code",
      "metadata": {
        "colab": {
          "base_uri": "https://localhost:8080/"
        },
        "id": "372d5017",
        "outputId": "a9150b3e-c2c3-4f19-f60e-3f93e8a467e4"
      },
      "source": [
        "import requests\n",
        "\n",
        "response = requests.get(post_url)\n",
        "if response.status_code == 200:\n",
        "    html_content = response.text\n",
        "    print(\"Successfully fetched the page content.\")\n",
        "else:\n",
        "    print(f\"Failed to fetch the page. Status code: {response.status_code}\")\n",
        "    html_content = None"
      ],
      "execution_count": 4,
      "outputs": [
        {
          "output_type": "stream",
          "name": "stdout",
          "text": [
            "Successfully fetched the page content.\n"
          ]
        }
      ]
    },
    {
      "cell_type": "markdown",
      "metadata": {
        "id": "8d77ce4d"
      },
      "source": [
        "## Parse the html\n",
        "Parse the fetched HTML content using `BeautifulSoup`.\n"
      ]
    },
    {
      "cell_type": "code",
      "metadata": {
        "colab": {
          "base_uri": "https://localhost:8080/"
        },
        "id": "70159620",
        "outputId": "3c8e0020-54e5-46a7-d888-4d07e60b633e"
      },
      "source": [
        "from bs4 import BeautifulSoup\n",
        "\n",
        "if html_content:\n",
        "    soup = BeautifulSoup(html_content, 'html.parser')\n",
        "    print(\"HTML content parsed successfully.\")\n",
        "else:\n",
        "    print(\"Cannot parse HTML content because it is None.\")"
      ],
      "execution_count": 5,
      "outputs": [
        {
          "output_type": "stream",
          "name": "stdout",
          "text": [
            "HTML content parsed successfully.\n"
          ]
        }
      ]
    },
    {
      "cell_type": "markdown",
      "metadata": {
        "id": "da6c4431"
      },
      "source": [
        "## Extract tags\n",
        "Find the HTML elements containing the tags and extract their text.\n"
      ]
    },
    {
      "cell_type": "code",
      "metadata": {
        "id": "523ee279"
      },
      "source": [
        "if soup:\n",
        "    tag_elements = soup.find_all('li', class_=lambda x: x and 'tag-type-' in x)\n",
        "    tags = []\n",
        "    for tag_element in tag_elements:\n",
        "        tag_text_element = tag_element.find('a', class_='search-tag')\n",
        "        if tag_text_element:\n",
        "            tags.append(tag_text_element.get_text())\n",
        "\n",
        "    print(\"Extracted tags:\", tags)\n",
        "else:\n",
        "    print(\"Cannot extract tags because soup object is None.\")"
      ],
      "execution_count": null,
      "outputs": []
    },
    {
      "cell_type": "markdown",
      "metadata": {
        "id": "9fa1519d"
      },
      "source": [
        "## Format and display tags"
      ]
    },
    {
      "cell_type": "code",
      "metadata": {
        "id": "40366e09"
      },
      "source": [
        "if tags:\n",
        "    tags_string = \", \".join(tags)\n",
        "    print(tags_string)\n",
        "else:\n",
        "    print(\"No tags found.\")"
      ],
      "execution_count": null,
      "outputs": []
    },
    {
      "cell_type": "markdown",
      "metadata": {
        "id": "b187b96c"
      },
      "source": [
        "## shrot version\n",
        "\n",
        "\n"
      ]
    },
    {
      "cell_type": "code",
      "metadata": {
        "id": "f2d98a0f"
      },
      "source": [
        "import requests\n",
        "from bs4 import BeautifulSoup\n",
        "\n",
        "while True:\n",
        "    post_url = input(\"Please enter the Danbooru post URL: \")\n",
        "    if post_url.startswith(\"http://\") or post_url.startswith(\"https://\"):\n",
        "        break\n",
        "    else:\n",
        "        print(\"Invalid URL. Please enter a URL starting with 'http://' or 'https://'.\")\n",
        "\n",
        "html_content = None\n",
        "try:\n",
        "    response = requests.get(post_url)\n",
        "    response.raise_for_status()\n",
        "    html_content = response.text\n",
        "    print(\"Successfully fetched the page content.\")\n",
        "except requests.exceptions.RequestException as e:\n",
        "    print(f\"Error fetching the page: {e}\")\n",
        "\n",
        "soup = None\n",
        "if html_content:\n",
        "    try:\n",
        "        soup = BeautifulSoup(html_content, 'html.parser')\n",
        "        print(\"HTML content parsed successfully.\")\n",
        "    except Exception as e:\n",
        "        print(f\"Error parsing HTML content: {e}\")\n",
        "\n",
        "tags = []\n",
        "if soup:\n",
        "    try:\n",
        "        tag_elements = soup.find_all('li', class_=lambda x: x and 'tag-type-' in x)\n",
        "        for tag_element in tag_elements:\n",
        "            tag_text_element = tag_element.find('a', class_='search-tag')\n",
        "            if tag_text_element:\n",
        "                tags.append(tag_text_element.get_text())\n",
        "        print(\"Extracted tags:\", tags)\n",
        "    except Exception as e:\n",
        "        print(f\"Error during tag extraction: {e}\")\n",
        "\n",
        "if tags:\n",
        "    tags_string = \", \".join(tags)\n",
        "    print(tags_string)\n",
        "else:\n",
        "    print(\"No tags found.\")"
      ],
      "execution_count": null,
      "outputs": []
    }
  ]
}